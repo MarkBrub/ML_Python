{
 "cells": [
  {
   "cell_type": "code",
   "execution_count": 1,
   "metadata": {},
   "outputs": [],
   "source": [
    "import os\n",
    "import pickle\n",
    "import shutil\n",
    "import sys\n",
    "import time\n",
    "\n",
    "import matplotlib.pyplot as plt\n",
    "import numpy as np\n",
    "import pandas as pd\n",
    "import seaborn as sns\n",
    "from sklearn import metrics as mt\n",
    "from sklearn.metrics import accuracy_score\n",
    "from sklearn.model_selection import train_test_split\n",
    "from sklearn.preprocessing import OneHotEncoder, StandardScaler\n",
    "from sklearn.utils import shuffle\n",
    "from statsmodels.stats.contingency_tables import mcnemar\n",
    "\n",
    "LOAD_FROM_PICKLE = False\n",
    "\n",
    "import os\n",
    "\n",
    "os.environ['TF_CPP_MIN_LOG_LEVEL'] = '3' # or any {‘0’, ‘1’, ‘2’}\n",
    "os.environ['AUTOGRAPH_VERBOSITY'] = '0'\n",
    "\n",
    "import warnings\n",
    "\n",
    "warnings.simplefilter('ignore', FutureWarning)\n",
    "warnings.simplefilter('ignore', RuntimeWarning)\n",
    "\n",
    "USE_GPU = True"
   ]
  },
  {
   "cell_type": "code",
   "execution_count": 2,
   "metadata": {},
   "outputs": [],
   "source": [
    "# The kernel needs to be restarted before changing this setting to take effect\n",
    "\n",
    "if USE_GPU:\n",
    "    os.environ[\"CUDA_VISIBLE_DEVICES\"] = \"0\"\n",
    "else:\n",
    "    os.environ[\"CUDA_VISIBLE_DEVICES\"] = \"-1\""
   ]
  },
  {
   "cell_type": "code",
   "execution_count": 3,
   "metadata": {},
   "outputs": [
    {
     "name": "stdout",
     "output_type": "stream",
     "text": [
      "Num GPUs Available:  1\n",
      "Num CPUs Available:  1\n",
      "Tensorflow version: 2.11.0\n",
      "Keras version: 2.11.0\n",
      "Using NVIDIA GeForce RTX 3070 Laptop GPU\n"
     ]
    }
   ],
   "source": [
    "# Tensorflow import needs to be after setting the CUDA_VISIBLE_DEVICES\n",
    "\n",
    "import tensorflow as tf\n",
    "from keras.models import Model, Sequential, load_model\n",
    "from keras.utils import to_categorical\n",
    "from keras.utils.vis_utils import plot_model\n",
    "from tensorflow import keras\n",
    "from tensorflow.keras import backend as K\n",
    "from tensorflow.keras.layers import (GRU, LSTM, Activation, Conv1D, Dense,\n",
    "                                     Dropout, Embedding, Flatten, Input,\n",
    "                                     InputLayer, MaxPooling1D, concatenate)\n",
    "from tensorflow.keras.models import Model\n",
    "from tensorflow.keras.preprocessing.sequence import pad_sequences\n",
    "from tensorflow.keras.preprocessing.text import Tokenizer\n",
    "\n",
    "# print Tensorflow and CUDA information\n",
    "print(\"Num GPUs Available: \", len(tf.config.experimental.list_physical_devices('GPU')))\n",
    "print(\"Num CPUs Available: \", len(tf.config.experimental.list_physical_devices('CPU')))\n",
    "print(f\"Tensorflow version: {tf.__version__}\")\n",
    "print(f\"Keras version: {keras.__version__}\")\n",
    "\n",
    "if tf.test.gpu_device_name():\n",
    "    gpu_devices = tf.config.list_physical_devices('GPU')\n",
    "    details = tf.config.experimental.get_device_details(gpu_devices[0])\n",
    "    name = details.get('device_name', 'Unknown GPU')\n",
    "    \n",
    "    print(f\"Using {name}\")\n",
    "else:\n",
    "    print(\"No GPU found\")"
   ]
  },
  {
   "cell_type": "code",
   "execution_count": 4,
   "metadata": {},
   "outputs": [
    {
     "name": "stdout",
     "output_type": "stream",
     "text": [
      "Loaded data from csv\n"
     ]
    }
   ],
   "source": [
    "# data is stored in the folowing way:\n",
    "# \"rating\", \"title\", \"review\" all as strings\n",
    "# \"1\" is negative, \"2\" is positive\n",
    "\n",
    "if LOAD_FROM_PICKLE:\n",
    "    with open('../Data/Pickle/reviews.pickle', 'rb') as handle:\n",
    "        data = pickle.load(handle)\n",
    "\n",
    "    print('Loaded data from pickle')\n",
    "else:\n",
    "    data = pd.read_csv('../Data/Amazon_Reviews/reviews.csv', names=['rating', 'title', 'review'], low_memory=False, header=0)\n",
    "\n",
    "    # combine title and review\n",
    "    data['review'] = data['title'] + ' ' + data['review']\n",
    "\n",
    "    # remove title\n",
    "    data.drop('title', axis=1, inplace=True)\n",
    "\n",
    "    # turn sets of spaces into single space\n",
    "    data['review'] = data['review'].str.replace(' +', ' ')\n",
    "\n",
    "    # remove leading and trailing spaces\n",
    "    data['review'] = data['review'].str.strip()\n",
    "\n",
    "    # convert rating to uint8\n",
    "    data['rating'] = data['rating'].astype('uint8')\n",
    "\n",
    "    # convert rating to 0 and 1 where 0 is positive and 1 is negative\n",
    "    data['rating'] = data['rating'].apply(lambda x: 0 if x == 2 else 1)\n",
    "\n",
    "    # save as pickle\n",
    "    with open('../Data/Pickle/reviews.pickle', 'wb') as handle:\n",
    "        pickle.dump(data, handle, protocol=pickle.HIGHEST_PROTOCOL)\n",
    "\n",
    "    print('Loaded data from csv')"
   ]
  },
  {
   "cell_type": "code",
   "execution_count": 5,
   "metadata": {},
   "outputs": [
    {
     "name": "stdout",
     "output_type": "stream",
     "text": [
      "Rating: 0\n",
      "Review: Stuning even for the non-gamer This sound track was beautiful! It paints the senery in your mind so well I would recomend it even to people who hate vid. game music! I have played the game Chrono Cross but out of all of the games I have ever played it has the best music! It backs away from crude keyboarding and takes a fresher step with grate guitars and soulful orchestras. It would impress anyone who cares to listen! ^_^\n",
      "\n",
      "Rating: 0\n",
      "Review: The best soundtrack ever to anything. I'm reading a lot of reviews saying that this is the best 'game soundtrack' and I figured that I'd write a review to disagree a bit. This in my opinino is Yasunori Mitsuda's ultimate masterpiece. The music is timeless and I'm been listening to it for years now and its beauty simply refuses to fade.The price tag on this is pretty staggering I must say, but if you are going to buy any cd for this much money, this is the only one that I feel would be worth every penny.\n",
      "\n",
      "Rating: 0\n",
      "Review: Amazing! This soundtrack is my favorite music of all time, hands down. The intense sadness of \"Prisoners of Fate\" (which means all the more if you've played the game) and the hope in \"A Distant Promise\" and \"Girl who Stole the Star\" have been an important inspiration to me personally throughout my teen years. The higher energy tracks like \"Chrono Cross ~ Time's Scar~\", \"Time of the Dreamwatch\", and \"Chronomantique\" (indefinably remeniscent of Chrono Trigger) are all absolutely superb as well.This soundtrack is amazing music, probably the best of this composer's work (I haven't heard the Xenogears soundtrack, so I can't say for sure), and even if you've never played the game, it would be worth twice the price to buy it.I wish I could give it 6 stars.\n",
      "\n",
      "Rating: 0\n",
      "Review: Excellent Soundtrack I truly like this soundtrack and I enjoy video game music. I have played this game and most of the music on here I enjoy and it's truly relaxing and peaceful.On disk one. my favorites are Scars Of Time, Between Life and Death, Forest Of Illusion, Fortress of Ancient Dragons, Lost Fragment, and Drowned Valley.Disk Two: The Draggons, Galdorb - Home, Chronomantique, Prisoners of Fate, Gale, and my girlfriend likes ZelbessDisk Three: The best of the three. Garden Of God, Chronopolis, Fates, Jellyfish sea, Burning Orphange, Dragon's Prayer, Tower Of Stars, Dragon God, and Radical Dreamers - Unstealable Jewel.Overall, this is a excellent soundtrack and should be brought by those that like video game music.Xander Cross\n",
      "\n",
      "Rating: 0\n",
      "Review: Remember, Pull Your Jaw Off The Floor After Hearing it If you've played the game, you know how divine the music is! Every single song tells a story of the game, it's that good! The greatest songs are without a doubt, Chrono Cross: Time's Scar, Magical Dreamers: The Wind, The Stars, and the Sea and Radical Dreamers: Unstolen Jewel. (Translation varies) This music is perfect if you ask me, the best it can be. Yasunori Mitsuda just poured his heart on and wrote it down on paper.\n",
      "\n"
     ]
    }
   ],
   "source": [
    "# print the first 5 rows\n",
    "\n",
    "for i in range(5):\n",
    "    print(f\"Rating: {data['rating'][i]}\")\n",
    "    print(f\"Review: {data['review'][i]}\")\n",
    "    print()"
   ]
  },
  {
   "cell_type": "code",
   "execution_count": 6,
   "metadata": {},
   "outputs": [
    {
     "name": "stdout",
     "output_type": "stream",
     "text": [
      "Number of reviews: 4,000,000\n",
      "Number of negative reviews: 2,000,000\n",
      "Number of positive reviews: 2,000,000\n",
      "Longest review in words: 257\n",
      "99th percentile of review lengths: 181.0\n"
     ]
    },
    {
     "data": {
      "image/png": "[encoded data removed]",
      "text/plain": [
       "<Figure size 1800x600 with 1 Axes>"
      ]
     },
     "metadata": {},
     "output_type": "display_data"
    }
   ],
   "source": [
    "# print some statistics\n",
    "print(f\"Number of reviews: {len(data):,}\")\n",
    "print(f\"Number of negative reviews: {len(data[data['rating'] == 1]):,}\")\n",
    "print(f\"Number of positive reviews: {len(data[data['rating'] == 0]):,}\")\n",
    "\n",
    "review_lengths = [len(review.split()) for review in data['review'].astype(str)]\n",
    "\n",
    "# print the longest review in words\n",
    "print(f\"Longest review in words: {max(review_lengths)}\")\n",
    "\n",
    "# print the 99th percentile of review lengths\n",
    "print(f\"99th percentile of review lengths: {np.percentile(review_lengths, 99)}\")\n",
    "\n",
    "# graph the number of words in each review\n",
    "sns.set_style('darkgrid')\n",
    "sns.set_context('talk')\n",
    "sns.set_palette('colorblind')\n",
    "\n",
    "plt.figure(figsize=(18, 6))\n",
    "\n",
    "sns.histplot(review_lengths, bins=100, kde=True)\n",
    "\n",
    "plt.title('Review length distribution')\n",
    "plt.xlabel('Number of words')\n",
    "plt.ylabel('Number of reviews')\n",
    "plt.xlim(0, 257)\n",
    "\n",
    "plt.show()"
   ]
  },
  {
   "cell_type": "code",
   "execution_count": 7,
   "metadata": {},
   "outputs": [],
   "source": [
    "X = data['review'].astype(str).values\n",
    "y = data['rating'].values"
   ]
  },
  {
   "cell_type": "code",
   "execution_count": 8,
   "metadata": {},
   "outputs": [
    {
     "name": "stdout",
     "output_type": "stream",
     "text": [
      "Found 1,177,501 unique tokens. Distilled to 1,177,501 top words.\n"
     ]
    }
   ],
   "source": [
    "NUM_TOP_WORDS = None # use entire vocabulary!\n",
    "MAX_ART_LEN = 200 # maximum and minimum number of words\n",
    "NUM_CLASSES = 2\n",
    "\n",
    "if LOAD_FROM_PICKLE:\n",
    "    with open('../Data/Pickle/reviews_tokenized.pickle', 'rb') as handle:\n",
    "        X, word_index = pickle.load(handle)\n",
    "        NUM_TOP_WORDS = len(word_index) if NUM_TOP_WORDS==None else NUM_TOP_WORDS\n",
    "        top_words = min((len(word_index), NUM_TOP_WORDS))\n",
    "\n",
    "    print('Loaded tokenized X from pickle')\n",
    "else:\n",
    "    tokenizer = Tokenizer(num_words=NUM_TOP_WORDS)\n",
    "    tokenizer.fit_on_texts(X)\n",
    "\n",
    "    sequences = tokenizer.texts_to_sequences(X)\n",
    "\n",
    "    word_index = tokenizer.word_index\n",
    "    NUM_TOP_WORDS = len(word_index) if NUM_TOP_WORDS==None else NUM_TOP_WORDS\n",
    "    top_words = min((len(word_index),NUM_TOP_WORDS))\n",
    "\n",
    "    X = pad_sequences(sequences, maxlen=MAX_ART_LEN)\n",
    "\n",
    "    # save as pickle\n",
    "    with open('../Data/Pickle/reviews_tokenized.pickle', 'wb') as handle:\n",
    "        pickle.dump((X, word_index), handle, protocol=pickle.HIGHEST_PROTOCOL)\n",
    "\n",
    "y_ohe = keras.utils.to_categorical(y, num_classes=2)\n",
    "\n",
    "print(f\"Found {len(word_index):,} unique tokens. Distilled to {top_words:,} top words.\")"
   ]
  },
  {
   "cell_type": "code",
   "execution_count": 9,
   "metadata": {},
   "outputs": [
    {
     "name": "stdout",
     "output_type": "stream",
     "text": [
      "Found 400,000 word vectors.\n",
      "\n",
      "Embedding Shape: (1177502, 100)\n",
      "Total words found: 189,284\n",
      "Percentage: 16.08\n"
     ]
    }
   ],
   "source": [
    "EMBED_SIZE = 100\n",
    "# the embed size should match the file you load glove from\n",
    "embeddings_index = {}\n",
    "f = open('../Data/GloVe/glove.6B.100d.txt')\n",
    "# save key/array pairs of the embeddings\n",
    "#  the key of the dictionary is the word, the array is the embedding\n",
    "for line in f:\n",
    "    values = line.split()\n",
    "    word = values[0]\n",
    "    coefs = np.asarray(values[1:], dtype='float32')\n",
    "    embeddings_index[word] = coefs\n",
    "f.close()\n",
    "\n",
    "print(f\"Found {len(embeddings_index):,} word vectors.\\n\")\n",
    "\n",
    "# now fill in the matrix, using the ordering from the\n",
    "#  keras word tokenizer from before\n",
    "found_words = 0\n",
    "embedding_matrix = np.zeros((len(word_index) + 1, EMBED_SIZE))\n",
    "for word, i in word_index.items():\n",
    "    embedding_vector = embeddings_index.get(word)\n",
    "    if embedding_vector is not None:\n",
    "        # words not found in embedding index will be ALL-ZEROS\n",
    "        embedding_matrix[i] = embedding_vector\n",
    "        found_words = found_words+1\n",
    "\n",
    "print(f\"Embedding Shape: {embedding_matrix.shape}\")\n",
    "print(f\"Total words found: {found_words:,}\")\n",
    "print(f\"Percentage: {round(100 * found_words / embedding_matrix.shape[0], 2)}\")"
   ]
  },
  {
   "cell_type": "code",
   "execution_count": 10,
   "metadata": {},
   "outputs": [
    {
     "name": "stdout",
     "output_type": "stream",
     "text": [
      "X_train shape: (3200000, 200)\n",
      "X_test shape: (800000, 200)\n",
      "y_train_ohe shape: (3200000, 2)\n",
      "y_test_ohe shape: (800000, 2)\n"
     ]
    }
   ],
   "source": [
    "X_train, X_test, y_train_ohe, y_test_ohe = train_test_split(X, y_ohe, test_size=0.2, stratify=y)\n",
    "\n",
    "print(f\"X_train shape: {X_train.shape}\")\n",
    "print(f\"X_test shape: {X_test.shape}\")\n",
    "print(f\"y_train_ohe shape: {y_train_ohe.shape}\")\n",
    "print(f\"y_test_ohe shape: {y_test_ohe.shape}\")"
   ]
  },
  {
   "cell_type": "code",
   "execution_count": 11,
   "metadata": {},
   "outputs": [],
   "source": [
    "# these three functions are from https://datascience.stackexchange.com/questions/45165/how-to-get-accuracy-f1-precision-and-recall-for-a-keras-model\n",
    "def recall_m(y_true, y_pred):\n",
    "    true_positives = K.sum(K.round(K.clip(y_true * y_pred, 0, 1)))\n",
    "    possible_positives = K.sum(K.round(K.clip(y_true, 0, 1)))\n",
    "    recall = true_positives / (possible_positives + K.epsilon())\n",
    "    return recall\n",
    "\n",
    "def precision_m(y_true, y_pred):\n",
    "    true_positives = K.sum(K.round(K.clip(y_true * y_pred, 0, 1)))\n",
    "    predicted_positives = K.sum(K.round(K.clip(y_pred, 0, 1)))\n",
    "    precision = true_positives / (predicted_positives + K.epsilon())\n",
    "    return precision\n",
    "\n",
    "@tf.autograph.experimental.do_not_convert\n",
    "def f1_m(y_true, y_pred):\n",
    "    precision = precision_m(y_true, y_pred)\n",
    "    recall = recall_m(y_true, y_pred)\n",
    "    return 2*((precision*recall)/(precision+recall+K.epsilon()))"
   ]
  },
  {
   "cell_type": "code",
   "execution_count": 12,
   "metadata": {},
   "outputs": [
    {
     "name": "stdout",
     "output_type": "stream",
     "text": [
      "Model: \"RNN-LSTM-25\"\n",
      "_________________________________________________________________\n",
      " Layer (type)                Output Shape              Param #   \n",
      "=================================================================\n",
      " embedding (Embedding)       (None, 200, 100)          117750200 \n",
      "                                                                 \n",
      " lstm (LSTM)                 (None, 25)                12600     \n",
      "                                                                 \n",
      " dense (Dense)               (None, 2)                 52        \n",
      "                                                                 \n",
      "=================================================================\n",
      "Total params: 117,762,852\n",
      "Trainable params: 12,652\n",
      "Non-trainable params: 117,750,200\n",
      "_________________________________________________________________\n",
      "None\n",
      "Model: \"RNN-GRU-25\"\n",
      "_________________________________________________________________\n",
      " Layer (type)                Output Shape              Param #   \n",
      "=================================================================\n",
      " embedding (Embedding)       (None, 200, 100)          117750200 \n",
      "                                                                 \n",
      " gru (GRU)                   (None, 25)                9525      \n",
      "                                                                 \n",
      " dense_1 (Dense)             (None, 2)                 52        \n",
      "                                                                 \n",
      "=================================================================\n",
      "Total params: 117,759,777\n",
      "Trainable params: 9,577\n",
      "Non-trainable params: 117,750,200\n",
      "_________________________________________________________________\n",
      "None\n",
      "Model: \"RNN-LSTM-50\"\n",
      "_________________________________________________________________\n",
      " Layer (type)                Output Shape              Param #   \n",
      "=================================================================\n",
      " embedding (Embedding)       (None, 200, 100)          117750200 \n",
      "                                                                 \n",
      " lstm_1 (LSTM)               (None, 50)                30200     \n",
      "                                                                 \n",
      " dense_2 (Dense)             (None, 2)                 102       \n",
      "                                                                 \n",
      "=================================================================\n",
      "Total params: 117,780,502\n",
      "Trainable params: 30,302\n",
      "Non-trainable params: 117,750,200\n",
      "_________________________________________________________________\n",
      "None\n",
      "Model: \"RNN-GRU-50\"\n",
      "_________________________________________________________________\n",
      " Layer (type)                Output Shape              Param #   \n",
      "=================================================================\n",
      " embedding (Embedding)       (None, 200, 100)          117750200 \n",
      "                                                                 \n",
      " gru_1 (GRU)                 (None, 50)                22800     \n",
      "                                                                 \n",
      " dense_3 (Dense)             (None, 2)                 102       \n",
      "                                                                 \n",
      "=================================================================\n",
      "Total params: 117,773,102\n",
      "Trainable params: 22,902\n",
      "Non-trainable params: 117,750,200\n",
      "_________________________________________________________________\n",
      "None\n"
     ]
    }
   ],
   "source": [
    "embedding_layer = Embedding(len(word_index) + 1,\n",
    "                            EMBED_SIZE,\n",
    "                            weights=[embedding_matrix],# here is the embedding getting saved\n",
    "                            input_length=MAX_ART_LEN,\n",
    "                            trainable=False)\n",
    "\n",
    "def create_RNN(name, RNN_layer_type, num_units):\n",
    "    if RNN_layer_type == 'LSTM':\n",
    "        RNN_layer = LSTM\n",
    "    elif RNN_layer_type == 'GRU':\n",
    "        RNN_layer = GRU\n",
    "    else:\n",
    "        raise ValueError(\"RNN_layer_type must be one of 'LSTM' or 'GRU'\")\n",
    "\n",
    "    rnn = Sequential(name=name)\n",
    "    rnn.add(embedding_layer)\n",
    "    rnn.add(RNN_layer(num_units, dropout=0.2))\n",
    "    rnn.add(Dense(NUM_CLASSES, activation='sigmoid'))\n",
    "    rnn.compile(loss='binary_crossentropy',\n",
    "                optimizer='adam', \n",
    "                metrics=['accuracy', recall_m])\n",
    "\n",
    "    return rnn\n",
    "\n",
    "rnn1 = create_RNN('RNN-LSTM-25', 'LSTM', 25)\n",
    "rnn2 = create_RNN('RNN-GRU-25', 'GRU', 25)\n",
    "rnn3 = create_RNN('RNN-LSTM-50', 'LSTM', 50)\n",
    "rnn4 = create_RNN('RNN-GRU-50', 'GRU', 50)\n",
    "\n",
    "models = [rnn1, rnn2, rnn3, rnn4]\n",
    "\n",
    "for model in models:\n",
    "    print(model.summary())"
   ]
  },
  {
   "cell_type": "code",
   "execution_count": 13,
   "metadata": {},
   "outputs": [
    {
     "name": "stdout",
     "output_type": "stream",
     "text": [
      "Model RNN-LSTM-25 took 1998.99 seconds to train\n",
      "Model RNN-LSTM-25 saved\n",
      "Model RNN-GRU-25 took 2034.89 seconds to train\n",
      "Model RNN-GRU-25 saved\n",
      "Model RNN-LSTM-50 took 2556.23 seconds to train\n",
      "Model RNN-LSTM-50 saved\n",
      "Model RNN-GRU-50 took 2449.15 seconds to train\n",
      "Model RNN-GRU-50 saved\n"
     ]
    }
   ],
   "source": [
    "LOAD_STORED_MODELS = False\n",
    "\n",
    "if LOAD_STORED_MODELS:\n",
    "    for model in models:\n",
    "        # load model\n",
    "        model.load_weights(f\"Models/Lab7/{model.name}.h5\")\n",
    "        #load history\n",
    "        with open(f\"Models/Lab7/{model.name}.pk1\", 'rb') as file_pi:\n",
    "            model.history = pickle.load(file_pi)\n",
    "else:\n",
    "    for model in models:\n",
    "        start = time.time()\n",
    "\n",
    "        history = model.fit(X_train, y_train_ohe, validation_data=(X_test, y_test_ohe), epochs=25, batch_size=2048, verbose=0)\n",
    "\n",
    "        print(f\"Model {model.name} took {round(time.time() - start, 2)} seconds to train\")\n",
    "\n",
    "        # Save model\n",
    "        model.save_weights(f\"Models/Lab7/{model.name}.h5\")\n",
    "        # save history\n",
    "        with open(f\"Models/Lab7/{model.name}.pkl\", 'wb') as f:\n",
    "            pickle.dump(history.history, f)\n",
    "\n",
    "        print(f\"Model {model.name} saved\")"
   ]
  },
  {
   "cell_type": "code",
   "execution_count": 14,
   "metadata": {},
   "outputs": [],
   "source": [
    "def history_plot(histories):\n",
    "    combined = dict()\n",
    "    for key in ['accuracy','val_accuracy','loss','val_loss', 'recall_m', 'val_recall_m']:\n",
    "        combined[key] = np.hstack([x.history[key] for x in histories[0]])\n",
    "        \n",
    "    # summarize history for accuracy\n",
    "    plt.figure(figsize=(15,5))\n",
    "    plt.subplot(1,2,1)\n",
    "    plt.plot(combined['accuracy'])\n",
    "    plt.plot(combined['val_accuracy'])\n",
    "    plt.title('model accuracy')\n",
    "    plt.ylabel('accuracy')\n",
    "    plt.xlabel('epoch')\n",
    "    plt.legend(['train', 'test'], loc='upper left')\n",
    "\n",
    "    # summarize history for loss\n",
    "    plt.subplot(1,2,2)\n",
    "    plt.plot(combined['loss'])\n",
    "    plt.plot(combined['val_loss'])\n",
    "    plt.title('model loss')\n",
    "    plt.ylabel('loss')\n",
    "    plt.xlabel('epoch')\n",
    "    plt.legend(['train', 'test'], loc='upper left')\n",
    "    plt.show()"
   ]
  },
  {
   "cell_type": "code",
   "execution_count": null,
   "metadata": {},
   "outputs": [],
   "source": []
  }
 ],
 "metadata": {
  "kernelspec": {
   "display_name": "Python 3.10.6 64-bit",
   "language": "python",
   "name": "python3"
  },
  "language_info": {
   "codemirror_mode": {
    "name": "ipython",
    "version": 3
   },
   "file_extension": ".py",
   "mimetype": "text/x-python",
   "name": "python",
   "nbconvert_exporter": "python",
   "pygments_lexer": "ipython3",
   "version": "3.10.6"
  },
  "orig_nbformat": 4,
  "vscode": {
   "interpreter": {
    "hash": "916dbcbb3f70747c44a77c7bcd40155683ae19c65e1c03b4aa3499c5328201f1"
   }
  }
 },
 "nbformat": 4,
 "nbformat_minor": 2
}
